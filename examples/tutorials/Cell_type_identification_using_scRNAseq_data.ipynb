{
  "cells": [
    {
      "cell_type": "markdown",
      "id": "SgQuIgMpD084",
      "metadata": {
        "id": "SgQuIgMpD084"
      },
      "source": [
        "# Cell type identification from scRNA-seq data using ACTINN"
      ]
    },
    {
      "cell_type": "markdown",
      "id": "Q8XrmxgyLkQu",
      "metadata": {
        "id": "Q8XrmxgyLkQu"
      },
      "source": [
        "## Why is RNA important?\n",
        "\n",
        "To understand what scRNA-seq data represents, let's first explore the role of RNA (Ribonucleic Acid) inside cells. All cells in our body, regardless of whether they make up tissues in the heart, brain, or skin, contain the same genetic code (DNA). Yet, despite having identical DNA, cells look different, perform distinct functions, and form specialized tissues and organs.\n",
        "\n",
        "How is this possible?\n",
        "\n",
        "The key lies in differential [gene expression](https://en.wikipedia.org/wiki/Gene_expression), the process by which genetic instructions are used to synthesize gene products like proteins. DNA acts as the blueprint, but it is RNA, specifically messenger RNA (mRNA), that translates these instructions into action. Different types of cells transcribe distinct subsets of genes into mRNAs, leading to the synthesis of unique sets of proteins. These distinct protein profiles allow cells to specialize and perform various functions within the body [1,2].\n",
        "\n",
        "Messenger RNA (mRNA) acts as a critical intermediary, carrying genetic instructions from DNA to ribosomes,the cellular machinery responsible for protein synthesis.\n",
        "\n",
        "Proteins like enzymes drive metabolic pathways, while structural proteins such as actin and myosin give muscles their ability to contract and move. Cytoskeletal proteins help maintain cell shape and integrity.\n",
        "\n",
        "Therefore, the unique set of mRNA molecules present in a cell at any given moment(its **transcriptome**) reveals which genes are \"turned on.\" This transcriptome dictates which proteins the cell is making, which in turn defines the cell's type and function. Measuring this transcriptome is the fundamental goal of single-cell RNA sequencing (scRNA-seq).\n",
        "\n",
        "\n",
        "## Single-cell RNA sequencing vs Bulk RNA sequencing\n",
        "\n",
        "RNA-Seq (short for RNA sequencing) is a technique used to quantify and identify RNA molecules in a biological sample, providing a snapshot of the transcriptome at a specific time. Sequencing of RNA can be mainly conducted in two ways: Either by sequencing the mixed RNA from the source of interest across cells (bulk sequencing) or by sequencing the transcriptomes of the cells individually (single-cell sequencing).\n",
        "\n",
        "Bulk RNA-Seq results in cell-averaged expression profiles, which are generally easier to analyze, but also hide some of the complexity such as cell expression profile heterogeneity, which may help answer the question of interest. Some drugs or perturbations may affect only specific cell types or interactions between cell types.\n",
        "\n",
        "For example, in oncology, it is possible to have rare drug resistant tumor cells causing relapse, which is difficult to identify by simple bulk RNA-seq even on cultured cells.To uncover such relationships, it is vital to examine gene expression on a single-cell level.[3]\n",
        "\n",
        "## Libraries commonly used for scRNA-seq analysis\n",
        "\n",
        "[ScanPy](https://scanpy.readthedocs.io/en/stable/) is a scalable toolkit for analyzing single-cell gene expression data. It includes methods for preprocessing, visualization, clustering, pseudotime and trajectory inference, differential expression testing, and simulation of gene regulatory networks.\n",
        "\n",
        "[ANNDATA](https://github.com/theislab/anndata) was presented alongside ScanPy as a generic class for handling annotated data matrices that can deal with the sparsity inherent in gene expression data.\n",
        "\n",
        "This is also a good point to explore DeepChem's [tutorial](https://deepchem.io/tutorials/scanpy/) on building an scRNA-seq analysis pipeline using ScanPy.\n",
        "\n",
        "\n"
      ]
    },
    {
      "cell_type": "markdown",
      "id": "8e4b19fb",
      "metadata": {
        "id": "8e4b19fb"
      },
      "source": [
        "## ACTINN (automated identification of cell types in single cell RNA sequencing )\n",
        "\n",
        "This tutorial guides you through working with scRNA-seq data and demonstrates how to train and evaluate a model using DeepChem. The objective is to replicate the experiments performed for cell type identification in [ACTINN](https://academic.oup.com/bioinformatics/article/36/2/533/5540320).\n",
        "\n",
        "Cell type identification is one of the major goals in single cell RNA sequencing (scRNA-seq). Traditional methods for assigning cell types typically involve the use of unsupervised clustering, the identification of signature genes in each cluster, followed by a manual lookup of these genes in the literature and databases to assign cell types. However, there are several limitations associated with these approaches, such as unwanted sources of variation that influence clustering and a lack of canonical markers for certain cell types.[1]\n",
        "\n",
        "ACTINN employs a neural network with three hidden layers, trains on datasets with predefined cell types and predicts cell types for other datasets based on the trained parameters.\n",
        "\n",
        "Here, ACTINN is implemented with a deepchem wrapper.\n",
        "\n",
        "## Colab\n",
        "\n",
        "This tutorial and the rest in this sequence can be done in Google colab. If you'd like to open this notebook in colab, you can use the following link.\n",
        "\n",
        "[![Open In Colab](https://colab.research.google.com/assets/colab-badge.svg)](https://colab.research.google.com/github/deepchem/deepchem/blob/master/examples/tutorials/Advanced_Model_Training.ipynb)\n",
        "\n",
        "## Setup\n",
        "\n",
        "To run DeepChem within Colab, you'll need to run the following installation commands. You can of course run this tutorial locally if you prefer. In that case, don't run these cells since they will download and install DeepChem in your local machine again."
      ]
    },
    {
      "cell_type": "code",
      "execution_count": 2,
      "id": "587b693f",
      "metadata": {
        "colab": {
          "base_uri": "https://localhost:8080/",
          "height": 766
        },
        "id": "587b693f",
        "outputId": "ee7a6e3e-e830-43eb-ab20-ffd7d3dd9fb0"
      },
      "outputs": [
        {
          "name": "stdout",
          "output_type": "stream",
          "text": [
            "Collecting deepchem\n",
            "  Using cached deepchem-2.8.0-py3-none-any.whl.metadata (2.0 kB)\n",
            "Requirement already satisfied: joblib in /usr/local/lib/python3.11/dist-packages (from deepchem) (1.5.1)\n",
            "Requirement already satisfied: numpy>=1.21 in /usr/local/lib/python3.11/dist-packages (from deepchem) (2.0.2)\n",
            "Requirement already satisfied: pandas in /usr/local/lib/python3.11/dist-packages (from deepchem) (2.2.2)\n",
            "Requirement already satisfied: scikit-learn in /usr/local/lib/python3.11/dist-packages (from deepchem) (1.6.1)\n",
            "Requirement already satisfied: sympy in /usr/local/lib/python3.11/dist-packages (from deepchem) (1.13.1)\n",
            "Requirement already satisfied: scipy>=1.10.1 in /usr/local/lib/python3.11/dist-packages (from deepchem) (1.16.0)\n",
            "Collecting rdkit (from deepchem)\n",
            "  Using cached rdkit-2025.3.3-cp311-cp311-manylinux_2_28_x86_64.whl.metadata (4.0 kB)\n",
            "Requirement already satisfied: python-dateutil>=2.8.2 in /usr/local/lib/python3.11/dist-packages (from pandas->deepchem) (2.9.0.post0)\n",
            "Requirement already satisfied: pytz>=2020.1 in /usr/local/lib/python3.11/dist-packages (from pandas->deepchem) (2025.2)\n",
            "Requirement already satisfied: tzdata>=2022.7 in /usr/local/lib/python3.11/dist-packages (from pandas->deepchem) (2025.2)\n",
            "Requirement already satisfied: Pillow in /usr/local/lib/python3.11/dist-packages (from rdkit->deepchem) (11.3.0)\n",
            "Requirement already satisfied: threadpoolctl>=3.1.0 in /usr/local/lib/python3.11/dist-packages (from scikit-learn->deepchem) (3.6.0)\n",
            "Requirement already satisfied: mpmath<1.4,>=1.1.0 in /usr/local/lib/python3.11/dist-packages (from sympy->deepchem) (1.3.0)\n",
            "Requirement already satisfied: six>=1.5 in /usr/local/lib/python3.11/dist-packages (from python-dateutil>=2.8.2->pandas->deepchem) (1.17.0)\n",
            "Downloading deepchem-2.8.0-py3-none-any.whl (1.0 MB)\n",
            "\u001b[2K   \u001b[90m━━━━━━━━━━━━━━━━━━━━━━━━━━━━━━━━━━━━━━━━\u001b[0m \u001b[32m1.0/1.0 MB\u001b[0m \u001b[31m14.1 MB/s\u001b[0m eta \u001b[36m0:00:00\u001b[0m\n",
            "\u001b[?25hDownloading rdkit-2025.3.3-cp311-cp311-manylinux_2_28_x86_64.whl (34.9 MB)\n",
            "\u001b[2K   \u001b[90m━━━━━━━━━━━━━━━━━━━━━━━━━━━━━━━━━━━━━━━━\u001b[0m \u001b[32m34.9/34.9 MB\u001b[0m \u001b[31m40.2 MB/s\u001b[0m eta \u001b[36m0:00:00\u001b[0m\n",
            "\u001b[?25hInstalling collected packages: rdkit, deepchem\n",
            "Successfully installed deepchem-2.8.0 rdkit-2025.3.3\n"
          ]
        },
        {
          "name": "stderr",
          "output_type": "stream",
          "text": [
            "WARNING:deepchem.feat.molecule_featurizers.rdkit_descriptors:No normalization for SPS. Feature removed!\n",
            "WARNING:deepchem.feat.molecule_featurizers.rdkit_descriptors:No normalization for AvgIpc. Feature removed!\n",
            "WARNING:deepchem.feat.molecule_featurizers.rdkit_descriptors:No normalization for NumAmideBonds. Feature removed!\n",
            "WARNING:deepchem.feat.molecule_featurizers.rdkit_descriptors:No normalization for NumAtomStereoCenters. Feature removed!\n",
            "WARNING:deepchem.feat.molecule_featurizers.rdkit_descriptors:No normalization for NumBridgeheadAtoms. Feature removed!\n",
            "WARNING:deepchem.feat.molecule_featurizers.rdkit_descriptors:No normalization for NumHeterocycles. Feature removed!\n",
            "WARNING:deepchem.feat.molecule_featurizers.rdkit_descriptors:No normalization for NumSpiroAtoms. Feature removed!\n",
            "WARNING:deepchem.feat.molecule_featurizers.rdkit_descriptors:No normalization for NumUnspecifiedAtomStereoCenters. Feature removed!\n",
            "WARNING:deepchem.feat.molecule_featurizers.rdkit_descriptors:No normalization for Phi. Feature removed!\n",
            "\u001b[34m\u001b[1mwandb\u001b[0m: \u001b[33mWARNING\u001b[0m W&B installed but not logged in.  Run `wandb login` or set the WANDB_API_KEY env variable.\n",
            "WARNING:tensorflow:From /usr/local/lib/python3.11/dist-packages/tensorflow/python/util/deprecation.py:588: calling function (from tensorflow.python.eager.polymorphic_function.polymorphic_function) with experimental_relax_shapes is deprecated and will be removed in a future version.\n",
            "Instructions for updating:\n",
            "experimental_relax_shapes is deprecated, use reduce_retracing instead\n",
            "\u001b[34m\u001b[1mwandb\u001b[0m: \u001b[33mWARNING\u001b[0m W&B installed but not logged in.  Run `wandb login` or set the WANDB_API_KEY env variable.\n",
            "WARNING:deepchem.models.torch_models:Skipped loading modules with pytorch-geometric dependency, missing a dependency. No module named 'torch_geometric'\n",
            "WARNING:deepchem.models:Skipped loading modules with pytorch-geometric dependency, missing a dependency. cannot import name 'DMPNN' from 'deepchem.models.torch_models' (/usr/local/lib/python3.11/dist-packages/deepchem/models/torch_models/__init__.py)\n",
            "WARNING:deepchem.models:Skipped loading modules with pytorch-lightning dependency, missing a dependency. No module named 'lightning'\n",
            "WARNING:deepchem.models:Skipped loading some Jax models, missing a dependency. No module named 'haiku'\n"
          ]
        },
        {
          "data": {
            "application/vnd.google.colaboratory.intrinsic+json": {
              "type": "string"
            },
            "text/plain": [
              "'2.8.0'"
            ]
          },
          "execution_count": 2,
          "metadata": {},
          "output_type": "execute_result"
        }
      ],
      "source": [
        "!pip install deepchem\n",
        "import deepchem as dc\n",
        "dc.__version__"
      ]
    },
    {
      "cell_type": "markdown",
      "id": "fd13efd5",
      "metadata": {
        "id": "fd13efd5"
      },
      "source": [
        "## Data Collection and Splitting"
      ]
    },
    {
      "cell_type": "markdown",
      "id": "ec53f3e8",
      "metadata": {
        "id": "ec53f3e8"
      },
      "source": [
        "\n",
        "\n",
        "\n",
        "A subset of the 'tma_ss2_cleaned' dataset from this [source](https://figshare.com/articles/ACTINN/8967116), which was originally used in ACTINN, is utilized here.\n",
        "\n",
        "There are two approaches to creating the train and test sets:\n",
        "1. Splitting a single dataset into training and testing portions.\n",
        "2. Using datasets from different sources as the train and test sets.\n"
      ]
    },
    {
      "cell_type": "code",
      "execution_count": 3,
      "id": "eccc26d8",
      "metadata": {
        "id": "eccc26d8"
      },
      "outputs": [],
      "source": [
        "import os\n",
        "current_dir = os.path.dirname(os.path.realpath('__file__'))"
      ]
    },
    {
      "cell_type": "code",
      "execution_count": 4,
      "id": "1539bd90",
      "metadata": {
        "id": "1539bd90"
      },
      "outputs": [],
      "source": [
        "file_names = ['scRNAseq_sample_1.h5', 'scRNAseq_sample_2.h5', 'celltype_label_sample_1.txt']\n",
        "base_url = 'https://raw.githubusercontent.com/Harindhar10/deepchem/actinn/deepchem/feat/tests/data/sc_rna_seq_data'\n",
        "\n",
        "for i in range(len(file_names)):\n",
        "  dc.utils.download_url(\n",
        "      f\"{base_url}/{file_names[i]}\",\n",
        "      current_dir,\n",
        "      f\"{file_names[i]}\"\n",
        "  )"
      ]
    },
    {
      "cell_type": "code",
      "execution_count": 5,
      "id": "f8dfd4b4",
      "metadata": {
        "id": "f8dfd4b4"
      },
      "outputs": [],
      "source": [
        "import pandas as pd\n",
        "import numpy as np\n",
        "from sklearn.model_selection import train_test_split"
      ]
    },
    {
      "cell_type": "markdown",
      "id": "25531170",
      "metadata": {
        "id": "25531170"
      },
      "source": [
        "### 1. Same source"
      ]
    },
    {
      "cell_type": "code",
      "execution_count": 6,
      "id": "797fca67",
      "metadata": {
        "id": "797fca67"
      },
      "outputs": [],
      "source": [
        "labels = pd.read_csv(os.path.join(current_dir,'celltype_label_sample_1.txt'), header=None, sep='\\t')\n",
        "dataset = pd.read_hdf(os.path.join(current_dir,'scRNAseq_sample_1.h5'))"
      ]
    },
    {
      "cell_type": "code",
      "execution_count": 7,
      "id": "GyJFjnTixWfW",
      "metadata": {
        "colab": {
          "base_uri": "https://localhost:8080/",
          "height": 443
        },
        "id": "GyJFjnTixWfW",
        "outputId": "5c45f9ec-8f5f-4a70-c5d8-ee2a59053456"
      },
      "outputs": [
        {
          "data": {
            "application/vnd.google.colaboratory.intrinsic+json": {
              "type": "dataframe",
              "variable_name": "dataset"
            },
            "text/html": [
              "\n",
              "  <div id=\"df-7586d65a-bb4e-4447-b622-832132cb452d\" class=\"colab-df-container\">\n",
              "    <div>\n",
              "<style scoped>\n",
              "    .dataframe tbody tr th:only-of-type {\n",
              "        vertical-align: middle;\n",
              "    }\n",
              "\n",
              "    .dataframe tbody tr th {\n",
              "        vertical-align: top;\n",
              "    }\n",
              "\n",
              "    .dataframe thead th {\n",
              "        text-align: right;\n",
              "    }\n",
              "</style>\n",
              "<table border=\"1\" class=\"dataframe\">\n",
              "  <thead>\n",
              "    <tr style=\"text-align: right;\">\n",
              "      <th></th>\n",
              "      <th>tma_mfd_1808</th>\n",
              "      <th>tma_mfd_32608</th>\n",
              "      <th>tma_mfd_2589</th>\n",
              "      <th>tma_mfd_13999</th>\n",
              "      <th>tma_mfd_2621</th>\n",
              "      <th>tma_mfd_5055</th>\n",
              "      <th>tma_mfd_796</th>\n",
              "      <th>tma_mfd_26185</th>\n",
              "      <th>tma_mfd_30053</th>\n",
              "      <th>tma_mfd_8084</th>\n",
              "      <th>...</th>\n",
              "      <th>tma_mfd_187</th>\n",
              "      <th>tma_mfd_5673</th>\n",
              "      <th>tma_mfd_6170</th>\n",
              "      <th>tma_mfd_34321</th>\n",
              "      <th>tma_mfd_8061</th>\n",
              "      <th>tma_mfd_2459</th>\n",
              "      <th>tma_mfd_13712</th>\n",
              "      <th>tma_mfd_33269</th>\n",
              "      <th>tma_mfd_32996</th>\n",
              "      <th>tma_mfd_33381</th>\n",
              "    </tr>\n",
              "  </thead>\n",
              "  <tbody>\n",
              "    <tr>\n",
              "      <th>0610005C13Rik</th>\n",
              "      <td>0.0</td>\n",
              "      <td>0.0</td>\n",
              "      <td>0.0</td>\n",
              "      <td>0.0</td>\n",
              "      <td>0.0</td>\n",
              "      <td>0.0</td>\n",
              "      <td>0.0</td>\n",
              "      <td>0.0</td>\n",
              "      <td>0.0</td>\n",
              "      <td>0.0</td>\n",
              "      <td>...</td>\n",
              "      <td>0.0</td>\n",
              "      <td>0.0</td>\n",
              "      <td>0.0</td>\n",
              "      <td>0.0</td>\n",
              "      <td>0.0</td>\n",
              "      <td>0.0</td>\n",
              "      <td>0.0</td>\n",
              "      <td>0.0</td>\n",
              "      <td>0.0</td>\n",
              "      <td>0.0</td>\n",
              "    </tr>\n",
              "    <tr>\n",
              "      <th>0610007C21Rik</th>\n",
              "      <td>0.0</td>\n",
              "      <td>0.0</td>\n",
              "      <td>0.0</td>\n",
              "      <td>0.0</td>\n",
              "      <td>0.0</td>\n",
              "      <td>0.0</td>\n",
              "      <td>0.0</td>\n",
              "      <td>0.0</td>\n",
              "      <td>0.0</td>\n",
              "      <td>0.0</td>\n",
              "      <td>...</td>\n",
              "      <td>0.0</td>\n",
              "      <td>0.0</td>\n",
              "      <td>0.0</td>\n",
              "      <td>0.0</td>\n",
              "      <td>0.0</td>\n",
              "      <td>0.0</td>\n",
              "      <td>0.0</td>\n",
              "      <td>1.0</td>\n",
              "      <td>0.0</td>\n",
              "      <td>1.0</td>\n",
              "    </tr>\n",
              "    <tr>\n",
              "      <th>0610007L01Rik</th>\n",
              "      <td>1.0</td>\n",
              "      <td>0.0</td>\n",
              "      <td>1.0</td>\n",
              "      <td>2.0</td>\n",
              "      <td>0.0</td>\n",
              "      <td>1.0</td>\n",
              "      <td>0.0</td>\n",
              "      <td>0.0</td>\n",
              "      <td>0.0</td>\n",
              "      <td>0.0</td>\n",
              "      <td>...</td>\n",
              "      <td>0.0</td>\n",
              "      <td>0.0</td>\n",
              "      <td>0.0</td>\n",
              "      <td>0.0</td>\n",
              "      <td>0.0</td>\n",
              "      <td>0.0</td>\n",
              "      <td>0.0</td>\n",
              "      <td>0.0</td>\n",
              "      <td>1.0</td>\n",
              "      <td>0.0</td>\n",
              "    </tr>\n",
              "    <tr>\n",
              "      <th>0610007N19Rik</th>\n",
              "      <td>0.0</td>\n",
              "      <td>0.0</td>\n",
              "      <td>0.0</td>\n",
              "      <td>0.0</td>\n",
              "      <td>0.0</td>\n",
              "      <td>0.0</td>\n",
              "      <td>0.0</td>\n",
              "      <td>0.0</td>\n",
              "      <td>0.0</td>\n",
              "      <td>0.0</td>\n",
              "      <td>...</td>\n",
              "      <td>0.0</td>\n",
              "      <td>0.0</td>\n",
              "      <td>0.0</td>\n",
              "      <td>0.0</td>\n",
              "      <td>0.0</td>\n",
              "      <td>0.0</td>\n",
              "      <td>0.0</td>\n",
              "      <td>0.0</td>\n",
              "      <td>1.0</td>\n",
              "      <td>0.0</td>\n",
              "    </tr>\n",
              "    <tr>\n",
              "      <th>0610007P08Rik</th>\n",
              "      <td>0.0</td>\n",
              "      <td>0.0</td>\n",
              "      <td>0.0</td>\n",
              "      <td>0.0</td>\n",
              "      <td>0.0</td>\n",
              "      <td>0.0</td>\n",
              "      <td>0.0</td>\n",
              "      <td>0.0</td>\n",
              "      <td>0.0</td>\n",
              "      <td>0.0</td>\n",
              "      <td>...</td>\n",
              "      <td>0.0</td>\n",
              "      <td>0.0</td>\n",
              "      <td>0.0</td>\n",
              "      <td>0.0</td>\n",
              "      <td>0.0</td>\n",
              "      <td>0.0</td>\n",
              "      <td>0.0</td>\n",
              "      <td>0.0</td>\n",
              "      <td>0.0</td>\n",
              "      <td>0.0</td>\n",
              "    </tr>\n",
              "    <tr>\n",
              "      <th>...</th>\n",
              "      <td>...</td>\n",
              "      <td>...</td>\n",
              "      <td>...</td>\n",
              "      <td>...</td>\n",
              "      <td>...</td>\n",
              "      <td>...</td>\n",
              "      <td>...</td>\n",
              "      <td>...</td>\n",
              "      <td>...</td>\n",
              "      <td>...</td>\n",
              "      <td>...</td>\n",
              "      <td>...</td>\n",
              "      <td>...</td>\n",
              "      <td>...</td>\n",
              "      <td>...</td>\n",
              "      <td>...</td>\n",
              "      <td>...</td>\n",
              "      <td>...</td>\n",
              "      <td>...</td>\n",
              "      <td>...</td>\n",
              "      <td>...</td>\n",
              "    </tr>\n",
              "    <tr>\n",
              "      <th>Anxa5</th>\n",
              "      <td>0.0</td>\n",
              "      <td>0.0</td>\n",
              "      <td>0.0</td>\n",
              "      <td>0.0</td>\n",
              "      <td>1.0</td>\n",
              "      <td>0.0</td>\n",
              "      <td>0.0</td>\n",
              "      <td>0.0</td>\n",
              "      <td>1.0</td>\n",
              "      <td>0.0</td>\n",
              "      <td>...</td>\n",
              "      <td>0.0</td>\n",
              "      <td>0.0</td>\n",
              "      <td>0.0</td>\n",
              "      <td>0.0</td>\n",
              "      <td>0.0</td>\n",
              "      <td>0.0</td>\n",
              "      <td>0.0</td>\n",
              "      <td>0.0</td>\n",
              "      <td>2.0</td>\n",
              "      <td>0.0</td>\n",
              "    </tr>\n",
              "    <tr>\n",
              "      <th>Anxa6</th>\n",
              "      <td>0.0</td>\n",
              "      <td>0.0</td>\n",
              "      <td>1.0</td>\n",
              "      <td>0.0</td>\n",
              "      <td>0.0</td>\n",
              "      <td>1.0</td>\n",
              "      <td>1.0</td>\n",
              "      <td>0.0</td>\n",
              "      <td>0.0</td>\n",
              "      <td>1.0</td>\n",
              "      <td>...</td>\n",
              "      <td>0.0</td>\n",
              "      <td>0.0</td>\n",
              "      <td>0.0</td>\n",
              "      <td>0.0</td>\n",
              "      <td>0.0</td>\n",
              "      <td>0.0</td>\n",
              "      <td>0.0</td>\n",
              "      <td>1.0</td>\n",
              "      <td>2.0</td>\n",
              "      <td>2.0</td>\n",
              "    </tr>\n",
              "    <tr>\n",
              "      <th>Anxa7</th>\n",
              "      <td>1.0</td>\n",
              "      <td>1.0</td>\n",
              "      <td>0.0</td>\n",
              "      <td>0.0</td>\n",
              "      <td>0.0</td>\n",
              "      <td>0.0</td>\n",
              "      <td>0.0</td>\n",
              "      <td>0.0</td>\n",
              "      <td>0.0</td>\n",
              "      <td>0.0</td>\n",
              "      <td>...</td>\n",
              "      <td>0.0</td>\n",
              "      <td>0.0</td>\n",
              "      <td>0.0</td>\n",
              "      <td>0.0</td>\n",
              "      <td>0.0</td>\n",
              "      <td>0.0</td>\n",
              "      <td>1.0</td>\n",
              "      <td>0.0</td>\n",
              "      <td>1.0</td>\n",
              "      <td>0.0</td>\n",
              "    </tr>\n",
              "    <tr>\n",
              "      <th>Anxa8</th>\n",
              "      <td>0.0</td>\n",
              "      <td>0.0</td>\n",
              "      <td>0.0</td>\n",
              "      <td>0.0</td>\n",
              "      <td>0.0</td>\n",
              "      <td>0.0</td>\n",
              "      <td>0.0</td>\n",
              "      <td>0.0</td>\n",
              "      <td>0.0</td>\n",
              "      <td>0.0</td>\n",
              "      <td>...</td>\n",
              "      <td>0.0</td>\n",
              "      <td>0.0</td>\n",
              "      <td>0.0</td>\n",
              "      <td>0.0</td>\n",
              "      <td>1.0</td>\n",
              "      <td>0.0</td>\n",
              "      <td>0.0</td>\n",
              "      <td>0.0</td>\n",
              "      <td>0.0</td>\n",
              "      <td>0.0</td>\n",
              "    </tr>\n",
              "    <tr>\n",
              "      <th>Aoah</th>\n",
              "      <td>0.0</td>\n",
              "      <td>0.0</td>\n",
              "      <td>0.0</td>\n",
              "      <td>0.0</td>\n",
              "      <td>0.0</td>\n",
              "      <td>0.0</td>\n",
              "      <td>0.0</td>\n",
              "      <td>0.0</td>\n",
              "      <td>0.0</td>\n",
              "      <td>0.0</td>\n",
              "      <td>...</td>\n",
              "      <td>0.0</td>\n",
              "      <td>0.0</td>\n",
              "      <td>0.0</td>\n",
              "      <td>0.0</td>\n",
              "      <td>0.0</td>\n",
              "      <td>0.0</td>\n",
              "      <td>0.0</td>\n",
              "      <td>0.0</td>\n",
              "      <td>0.0</td>\n",
              "      <td>0.0</td>\n",
              "    </tr>\n",
              "  </tbody>\n",
              "</table>\n",
              "<p>1500 rows × 1000 columns</p>\n",
              "</div>\n",
              "    <div class=\"colab-df-buttons\">\n",
              "\n",
              "  <div class=\"colab-df-container\">\n",
              "    <button class=\"colab-df-convert\" onclick=\"convertToInteractive('df-7586d65a-bb4e-4447-b622-832132cb452d')\"\n",
              "            title=\"Convert this dataframe to an interactive table.\"\n",
              "            style=\"display:none;\">\n",
              "\n",
              "  <svg xmlns=\"http://www.w3.org/2000/svg\" height=\"24px\" viewBox=\"0 -960 960 960\">\n",
              "    <path d=\"M120-120v-720h720v720H120Zm60-500h600v-160H180v160Zm220 220h160v-160H400v160Zm0 220h160v-160H400v160ZM180-400h160v-160H180v160Zm440 0h160v-160H620v160ZM180-180h160v-160H180v160Zm440 0h160v-160H620v160Z\"/>\n",
              "  </svg>\n",
              "    </button>\n",
              "\n",
              "  <style>\n",
              "    .colab-df-container {\n",
              "      display:flex;\n",
              "      gap: 12px;\n",
              "    }\n",
              "\n",
              "    .colab-df-convert {\n",
              "      background-color: #E8F0FE;\n",
              "      border: none;\n",
              "      border-radius: 50%;\n",
              "      cursor: pointer;\n",
              "      display: none;\n",
              "      fill: #1967D2;\n",
              "      height: 32px;\n",
              "      padding: 0 0 0 0;\n",
              "      width: 32px;\n",
              "    }\n",
              "\n",
              "    .colab-df-convert:hover {\n",
              "      background-color: #E2EBFA;\n",
              "      box-shadow: 0px 1px 2px rgba(60, 64, 67, 0.3), 0px 1px 3px 1px rgba(60, 64, 67, 0.15);\n",
              "      fill: #174EA6;\n",
              "    }\n",
              "\n",
              "    .colab-df-buttons div {\n",
              "      margin-bottom: 4px;\n",
              "    }\n",
              "\n",
              "    [theme=dark] .colab-df-convert {\n",
              "      background-color: #3B4455;\n",
              "      fill: #D2E3FC;\n",
              "    }\n",
              "\n",
              "    [theme=dark] .colab-df-convert:hover {\n",
              "      background-color: #434B5C;\n",
              "      box-shadow: 0px 1px 3px 1px rgba(0, 0, 0, 0.15);\n",
              "      filter: drop-shadow(0px 1px 2px rgba(0, 0, 0, 0.3));\n",
              "      fill: #FFFFFF;\n",
              "    }\n",
              "  </style>\n",
              "\n",
              "    <script>\n",
              "      const buttonEl =\n",
              "        document.querySelector('#df-7586d65a-bb4e-4447-b622-832132cb452d button.colab-df-convert');\n",
              "      buttonEl.style.display =\n",
              "        google.colab.kernel.accessAllowed ? 'block' : 'none';\n",
              "\n",
              "      async function convertToInteractive(key) {\n",
              "        const element = document.querySelector('#df-7586d65a-bb4e-4447-b622-832132cb452d');\n",
              "        const dataTable =\n",
              "          await google.colab.kernel.invokeFunction('convertToInteractive',\n",
              "                                                    [key], {});\n",
              "        if (!dataTable) return;\n",
              "\n",
              "        const docLinkHtml = 'Like what you see? Visit the ' +\n",
              "          '<a target=\"_blank\" href=https://colab.research.google.com/notebooks/data_table.ipynb>data table notebook</a>'\n",
              "          + ' to learn more about interactive tables.';\n",
              "        element.innerHTML = '';\n",
              "        dataTable['output_type'] = 'display_data';\n",
              "        await google.colab.output.renderOutput(dataTable, element);\n",
              "        const docLink = document.createElement('div');\n",
              "        docLink.innerHTML = docLinkHtml;\n",
              "        element.appendChild(docLink);\n",
              "      }\n",
              "    </script>\n",
              "  </div>\n",
              "\n",
              "\n",
              "    <div id=\"df-996725f4-e560-4d6c-9245-0b31f4e7a1c7\">\n",
              "      <button class=\"colab-df-quickchart\" onclick=\"quickchart('df-996725f4-e560-4d6c-9245-0b31f4e7a1c7')\"\n",
              "                title=\"Suggest charts\"\n",
              "                style=\"display:none;\">\n",
              "\n",
              "<svg xmlns=\"http://www.w3.org/2000/svg\" height=\"24px\"viewBox=\"0 0 24 24\"\n",
              "     width=\"24px\">\n",
              "    <g>\n",
              "        <path d=\"M19 3H5c-1.1 0-2 .9-2 2v14c0 1.1.9 2 2 2h14c1.1 0 2-.9 2-2V5c0-1.1-.9-2-2-2zM9 17H7v-7h2v7zm4 0h-2V7h2v10zm4 0h-2v-4h2v4z\"/>\n",
              "    </g>\n",
              "</svg>\n",
              "      </button>\n",
              "\n",
              "<style>\n",
              "  .colab-df-quickchart {\n",
              "      --bg-color: #E8F0FE;\n",
              "      --fill-color: #1967D2;\n",
              "      --hover-bg-color: #E2EBFA;\n",
              "      --hover-fill-color: #174EA6;\n",
              "      --disabled-fill-color: #AAA;\n",
              "      --disabled-bg-color: #DDD;\n",
              "  }\n",
              "\n",
              "  [theme=dark] .colab-df-quickchart {\n",
              "      --bg-color: #3B4455;\n",
              "      --fill-color: #D2E3FC;\n",
              "      --hover-bg-color: #434B5C;\n",
              "      --hover-fill-color: #FFFFFF;\n",
              "      --disabled-bg-color: #3B4455;\n",
              "      --disabled-fill-color: #666;\n",
              "  }\n",
              "\n",
              "  .colab-df-quickchart {\n",
              "    background-color: var(--bg-color);\n",
              "    border: none;\n",
              "    border-radius: 50%;\n",
              "    cursor: pointer;\n",
              "    display: none;\n",
              "    fill: var(--fill-color);\n",
              "    height: 32px;\n",
              "    padding: 0;\n",
              "    width: 32px;\n",
              "  }\n",
              "\n",
              "  .colab-df-quickchart:hover {\n",
              "    background-color: var(--hover-bg-color);\n",
              "    box-shadow: 0 1px 2px rgba(60, 64, 67, 0.3), 0 1px 3px 1px rgba(60, 64, 67, 0.15);\n",
              "    fill: var(--button-hover-fill-color);\n",
              "  }\n",
              "\n",
              "  .colab-df-quickchart-complete:disabled,\n",
              "  .colab-df-quickchart-complete:disabled:hover {\n",
              "    background-color: var(--disabled-bg-color);\n",
              "    fill: var(--disabled-fill-color);\n",
              "    box-shadow: none;\n",
              "  }\n",
              "\n",
              "  .colab-df-spinner {\n",
              "    border: 2px solid var(--fill-color);\n",
              "    border-color: transparent;\n",
              "    border-bottom-color: var(--fill-color);\n",
              "    animation:\n",
              "      spin 1s steps(1) infinite;\n",
              "  }\n",
              "\n",
              "  @keyframes spin {\n",
              "    0% {\n",
              "      border-color: transparent;\n",
              "      border-bottom-color: var(--fill-color);\n",
              "      border-left-color: var(--fill-color);\n",
              "    }\n",
              "    20% {\n",
              "      border-color: transparent;\n",
              "      border-left-color: var(--fill-color);\n",
              "      border-top-color: var(--fill-color);\n",
              "    }\n",
              "    30% {\n",
              "      border-color: transparent;\n",
              "      border-left-color: var(--fill-color);\n",
              "      border-top-color: var(--fill-color);\n",
              "      border-right-color: var(--fill-color);\n",
              "    }\n",
              "    40% {\n",
              "      border-color: transparent;\n",
              "      border-right-color: var(--fill-color);\n",
              "      border-top-color: var(--fill-color);\n",
              "    }\n",
              "    60% {\n",
              "      border-color: transparent;\n",
              "      border-right-color: var(--fill-color);\n",
              "    }\n",
              "    80% {\n",
              "      border-color: transparent;\n",
              "      border-right-color: var(--fill-color);\n",
              "      border-bottom-color: var(--fill-color);\n",
              "    }\n",
              "    90% {\n",
              "      border-color: transparent;\n",
              "      border-bottom-color: var(--fill-color);\n",
              "    }\n",
              "  }\n",
              "</style>\n",
              "\n",
              "      <script>\n",
              "        async function quickchart(key) {\n",
              "          const quickchartButtonEl =\n",
              "            document.querySelector('#' + key + ' button');\n",
              "          quickchartButtonEl.disabled = true;  // To prevent multiple clicks.\n",
              "          quickchartButtonEl.classList.add('colab-df-spinner');\n",
              "          try {\n",
              "            const charts = await google.colab.kernel.invokeFunction(\n",
              "                'suggestCharts', [key], {});\n",
              "          } catch (error) {\n",
              "            console.error('Error during call to suggestCharts:', error);\n",
              "          }\n",
              "          quickchartButtonEl.classList.remove('colab-df-spinner');\n",
              "          quickchartButtonEl.classList.add('colab-df-quickchart-complete');\n",
              "        }\n",
              "        (() => {\n",
              "          let quickchartButtonEl =\n",
              "            document.querySelector('#df-996725f4-e560-4d6c-9245-0b31f4e7a1c7 button');\n",
              "          quickchartButtonEl.style.display =\n",
              "            google.colab.kernel.accessAllowed ? 'block' : 'none';\n",
              "        })();\n",
              "      </script>\n",
              "    </div>\n",
              "\n",
              "  <div id=\"id_8eb11c88-5100-4038-936a-570d722e2b7b\">\n",
              "    <style>\n",
              "      .colab-df-generate {\n",
              "        background-color: #E8F0FE;\n",
              "        border: none;\n",
              "        border-radius: 50%;\n",
              "        cursor: pointer;\n",
              "        display: none;\n",
              "        fill: #1967D2;\n",
              "        height: 32px;\n",
              "        padding: 0 0 0 0;\n",
              "        width: 32px;\n",
              "      }\n",
              "\n",
              "      .colab-df-generate:hover {\n",
              "        background-color: #E2EBFA;\n",
              "        box-shadow: 0px 1px 2px rgba(60, 64, 67, 0.3), 0px 1px 3px 1px rgba(60, 64, 67, 0.15);\n",
              "        fill: #174EA6;\n",
              "      }\n",
              "\n",
              "      [theme=dark] .colab-df-generate {\n",
              "        background-color: #3B4455;\n",
              "        fill: #D2E3FC;\n",
              "      }\n",
              "\n",
              "      [theme=dark] .colab-df-generate:hover {\n",
              "        background-color: #434B5C;\n",
              "        box-shadow: 0px 1px 3px 1px rgba(0, 0, 0, 0.15);\n",
              "        filter: drop-shadow(0px 1px 2px rgba(0, 0, 0, 0.3));\n",
              "        fill: #FFFFFF;\n",
              "      }\n",
              "    </style>\n",
              "    <button class=\"colab-df-generate\" onclick=\"generateWithVariable('dataset')\"\n",
              "            title=\"Generate code using this dataframe.\"\n",
              "            style=\"display:none;\">\n",
              "\n",
              "  <svg xmlns=\"http://www.w3.org/2000/svg\" height=\"24px\"viewBox=\"0 0 24 24\"\n",
              "       width=\"24px\">\n",
              "    <path d=\"M7,19H8.4L18.45,9,17,7.55,7,17.6ZM5,21V16.75L18.45,3.32a2,2,0,0,1,2.83,0l1.4,1.43a1.91,1.91,0,0,1,.58,1.4,1.91,1.91,0,0,1-.58,1.4L9.25,21ZM18.45,9,17,7.55Zm-12,3A5.31,5.31,0,0,0,4.9,8.1,5.31,5.31,0,0,0,1,6.5,5.31,5.31,0,0,0,4.9,4.9,5.31,5.31,0,0,0,6.5,1,5.31,5.31,0,0,0,8.1,4.9,5.31,5.31,0,0,0,12,6.5,5.46,5.46,0,0,0,6.5,12Z\"/>\n",
              "  </svg>\n",
              "    </button>\n",
              "    <script>\n",
              "      (() => {\n",
              "      const buttonEl =\n",
              "        document.querySelector('#id_8eb11c88-5100-4038-936a-570d722e2b7b button.colab-df-generate');\n",
              "      buttonEl.style.display =\n",
              "        google.colab.kernel.accessAllowed ? 'block' : 'none';\n",
              "\n",
              "      buttonEl.onclick = () => {\n",
              "        google.colab.notebook.generateWithVariable('dataset');\n",
              "      }\n",
              "      })();\n",
              "    </script>\n",
              "  </div>\n",
              "\n",
              "    </div>\n",
              "  </div>\n"
            ],
            "text/plain": [
              "               tma_mfd_1808  tma_mfd_32608  tma_mfd_2589  tma_mfd_13999  \\\n",
              "0610005C13Rik           0.0            0.0           0.0            0.0   \n",
              "0610007C21Rik           0.0            0.0           0.0            0.0   \n",
              "0610007L01Rik           1.0            0.0           1.0            2.0   \n",
              "0610007N19Rik           0.0            0.0           0.0            0.0   \n",
              "0610007P08Rik           0.0            0.0           0.0            0.0   \n",
              "...                     ...            ...           ...            ...   \n",
              "Anxa5                   0.0            0.0           0.0            0.0   \n",
              "Anxa6                   0.0            0.0           1.0            0.0   \n",
              "Anxa7                   1.0            1.0           0.0            0.0   \n",
              "Anxa8                   0.0            0.0           0.0            0.0   \n",
              "Aoah                    0.0            0.0           0.0            0.0   \n",
              "\n",
              "               tma_mfd_2621  tma_mfd_5055  tma_mfd_796  tma_mfd_26185  \\\n",
              "0610005C13Rik           0.0           0.0          0.0            0.0   \n",
              "0610007C21Rik           0.0           0.0          0.0            0.0   \n",
              "0610007L01Rik           0.0           1.0          0.0            0.0   \n",
              "0610007N19Rik           0.0           0.0          0.0            0.0   \n",
              "0610007P08Rik           0.0           0.0          0.0            0.0   \n",
              "...                     ...           ...          ...            ...   \n",
              "Anxa5                   1.0           0.0          0.0            0.0   \n",
              "Anxa6                   0.0           1.0          1.0            0.0   \n",
              "Anxa7                   0.0           0.0          0.0            0.0   \n",
              "Anxa8                   0.0           0.0          0.0            0.0   \n",
              "Aoah                    0.0           0.0          0.0            0.0   \n",
              "\n",
              "               tma_mfd_30053  tma_mfd_8084  ...  tma_mfd_187  tma_mfd_5673  \\\n",
              "0610005C13Rik            0.0           0.0  ...          0.0           0.0   \n",
              "0610007C21Rik            0.0           0.0  ...          0.0           0.0   \n",
              "0610007L01Rik            0.0           0.0  ...          0.0           0.0   \n",
              "0610007N19Rik            0.0           0.0  ...          0.0           0.0   \n",
              "0610007P08Rik            0.0           0.0  ...          0.0           0.0   \n",
              "...                      ...           ...  ...          ...           ...   \n",
              "Anxa5                    1.0           0.0  ...          0.0           0.0   \n",
              "Anxa6                    0.0           1.0  ...          0.0           0.0   \n",
              "Anxa7                    0.0           0.0  ...          0.0           0.0   \n",
              "Anxa8                    0.0           0.0  ...          0.0           0.0   \n",
              "Aoah                     0.0           0.0  ...          0.0           0.0   \n",
              "\n",
              "               tma_mfd_6170  tma_mfd_34321  tma_mfd_8061  tma_mfd_2459  \\\n",
              "0610005C13Rik           0.0            0.0           0.0           0.0   \n",
              "0610007C21Rik           0.0            0.0           0.0           0.0   \n",
              "0610007L01Rik           0.0            0.0           0.0           0.0   \n",
              "0610007N19Rik           0.0            0.0           0.0           0.0   \n",
              "0610007P08Rik           0.0            0.0           0.0           0.0   \n",
              "...                     ...            ...           ...           ...   \n",
              "Anxa5                   0.0            0.0           0.0           0.0   \n",
              "Anxa6                   0.0            0.0           0.0           0.0   \n",
              "Anxa7                   0.0            0.0           0.0           0.0   \n",
              "Anxa8                   0.0            0.0           1.0           0.0   \n",
              "Aoah                    0.0            0.0           0.0           0.0   \n",
              "\n",
              "               tma_mfd_13712  tma_mfd_33269  tma_mfd_32996  tma_mfd_33381  \n",
              "0610005C13Rik            0.0            0.0            0.0            0.0  \n",
              "0610007C21Rik            0.0            1.0            0.0            1.0  \n",
              "0610007L01Rik            0.0            0.0            1.0            0.0  \n",
              "0610007N19Rik            0.0            0.0            1.0            0.0  \n",
              "0610007P08Rik            0.0            0.0            0.0            0.0  \n",
              "...                      ...            ...            ...            ...  \n",
              "Anxa5                    0.0            0.0            2.0            0.0  \n",
              "Anxa6                    0.0            1.0            2.0            2.0  \n",
              "Anxa7                    1.0            0.0            1.0            0.0  \n",
              "Anxa8                    0.0            0.0            0.0            0.0  \n",
              "Aoah                     0.0            0.0            0.0            0.0  \n",
              "\n",
              "[1500 rows x 1000 columns]"
            ]
          },
          "execution_count": 7,
          "metadata": {},
          "output_type": "execute_result"
        }
      ],
      "source": [
        "dataset"
      ]
    },
    {
      "cell_type": "markdown",
      "id": "b7c73234",
      "metadata": {
        "id": "b7c73234"
      },
      "source": [
        "'labels' has columns cell ID and cell type"
      ]
    },
    {
      "cell_type": "code",
      "execution_count": 8,
      "id": "896fItX4vctP",
      "metadata": {
        "id": "896fItX4vctP"
      },
      "outputs": [],
      "source": [
        "n_types = 0 # To store the number of cell types present in the dataset, which is need to define the output layer of the model later on.\n",
        "\n",
        "# Convertes cell type labels from string ('B Cell', 'T Cell' etc) to integers (1, 2 etc)\n",
        "def convert_type2label(types):\n",
        "    global n_types\n",
        "    types = list(types)\n",
        "    unique_types = sorted(set(types)) # Sorting ensures consistent label order\n",
        "    n_types = len(unique_types)\n",
        "\n",
        "    type_to_label_dict = {t: i for i, t in enumerate(unique_types)}\n",
        "    labels = np.array([type_to_label_dict[t] for t in types])\n",
        "\n",
        "    return labels\n",
        "\n",
        "labels_int = convert_type2label(labels[1])"
      ]
    },
    {
      "cell_type": "code",
      "execution_count": 9,
      "id": "lld5Gr1ivgGg",
      "metadata": {
        "id": "lld5Gr1ivgGg"
      },
      "outputs": [],
      "source": [
        "# Reshaping labels from (n,) to (n, 1) to be compatible with DeepChem's Dataset class\n",
        "labels_int = labels_int.reshape(labels_int.shape[0],1)"
      ]
    },
    {
      "cell_type": "code",
      "execution_count": 10,
      "id": "RQCvRaSNQ7gC",
      "metadata": {
        "id": "RQCvRaSNQ7gC"
      },
      "outputs": [],
      "source": [
        "# gene IDs are stored\n",
        "train_genes = dataset.index.to_numpy()\n",
        "\n",
        "# genes x cells (features x samples) -> cells x genes (samples x features)\n",
        "dataset = np.transpose(dataset)\n",
        "\n",
        "# Creating Deepchem 'Dataset' object\n",
        "dataset = dc.data.NumpyDataset(X=np.array(dataset,dtype=np.float32),y = labels_int, ids= labels[0])"
      ]
    },
    {
      "cell_type": "code",
      "execution_count": 16,
      "id": "B0TK7Uz-vxmp",
      "metadata": {
        "colab": {
          "base_uri": "https://localhost:8080/",
          "height": 304
        },
        "id": "B0TK7Uz-vxmp",
        "outputId": "cfdcdf5f-e0ad-46c0-d2b7-441c496045c5"
      },
      "outputs": [
        {
          "ename": "IndexError",
          "evalue": "arrays used as indices must be of integer (or boolean) type",
          "output_type": "error",
          "traceback": [
            "\u001b[0;31m---------------------------------------------------------------------------\u001b[0m",
            "\u001b[0;31mIndexError\u001b[0m                                Traceback (most recent call last)",
            "\u001b[0;32m/tmp/ipython-input-16-3811512432.py\u001b[0m in \u001b[0;36m<cell line: 0>\u001b[0;34m()\u001b[0m\n\u001b[1;32m      1\u001b[0m \u001b[0msplitter\u001b[0m \u001b[0;34m=\u001b[0m \u001b[0mdc\u001b[0m\u001b[0;34m.\u001b[0m\u001b[0msplits\u001b[0m\u001b[0;34m.\u001b[0m\u001b[0mSingletaskStratifiedSplitter\u001b[0m\u001b[0;34m(\u001b[0m\u001b[0;34m)\u001b[0m\u001b[0;34m\u001b[0m\u001b[0;34m\u001b[0m\u001b[0m\n\u001b[0;32m----> 2\u001b[0;31m \u001b[0mtrain_dataset\u001b[0m\u001b[0;34m,\u001b[0m \u001b[0mtest_dataset\u001b[0m \u001b[0;34m=\u001b[0m \u001b[0msplitter\u001b[0m\u001b[0;34m.\u001b[0m\u001b[0mtrain_test_split\u001b[0m\u001b[0;34m(\u001b[0m\u001b[0mdataset\u001b[0m\u001b[0;34m)\u001b[0m\u001b[0;34m\u001b[0m\u001b[0;34m\u001b[0m\u001b[0m\n\u001b[0m",
            "\u001b[0;32m/usr/local/lib/python3.11/dist-packages/deepchem/splits/splitters.py\u001b[0m in \u001b[0;36mtrain_test_split\u001b[0;34m(self, dataset, train_dir, test_dir, frac_train, seed, **kwargs)\u001b[0m\n\u001b[1;32m    212\u001b[0m         \"\"\"\n\u001b[1;32m    213\u001b[0m         \u001b[0mvalid_dir\u001b[0m \u001b[0;34m=\u001b[0m \u001b[0mtempfile\u001b[0m\u001b[0;34m.\u001b[0m\u001b[0mmkdtemp\u001b[0m\u001b[0;34m(\u001b[0m\u001b[0;34m)\u001b[0m\u001b[0;34m\u001b[0m\u001b[0;34m\u001b[0m\u001b[0m\n\u001b[0;32m--> 214\u001b[0;31m         train_dataset, _, test_dataset = self.train_valid_test_split(\n\u001b[0m\u001b[1;32m    215\u001b[0m             \u001b[0mdataset\u001b[0m\u001b[0;34m,\u001b[0m\u001b[0;34m\u001b[0m\u001b[0;34m\u001b[0m\u001b[0m\n\u001b[1;32m    216\u001b[0m             \u001b[0mtrain_dir\u001b[0m\u001b[0;34m,\u001b[0m\u001b[0;34m\u001b[0m\u001b[0;34m\u001b[0m\u001b[0m\n",
            "\u001b[0;32m/usr/local/lib/python3.11/dist-packages/deepchem/splits/splitters.py\u001b[0m in \u001b[0;36mtrain_valid_test_split\u001b[0;34m(self, dataset, train_dir, valid_dir, test_dir, frac_train, frac_valid, frac_test, seed, log_every_n, **kwargs)\u001b[0m\n\u001b[1;32m    168\u001b[0m         \u001b[0;32mif\u001b[0m \u001b[0mtest_dir\u001b[0m \u001b[0;32mis\u001b[0m \u001b[0;32mNone\u001b[0m\u001b[0;34m:\u001b[0m\u001b[0;34m\u001b[0m\u001b[0;34m\u001b[0m\u001b[0m\n\u001b[1;32m    169\u001b[0m             \u001b[0mtest_dir\u001b[0m \u001b[0;34m=\u001b[0m \u001b[0mtempfile\u001b[0m\u001b[0;34m.\u001b[0m\u001b[0mmkdtemp\u001b[0m\u001b[0;34m(\u001b[0m\u001b[0;34m)\u001b[0m\u001b[0;34m\u001b[0m\u001b[0;34m\u001b[0m\u001b[0m\n\u001b[0;32m--> 170\u001b[0;31m         \u001b[0mtrain_dataset\u001b[0m \u001b[0;34m=\u001b[0m \u001b[0mdataset\u001b[0m\u001b[0;34m.\u001b[0m\u001b[0mselect\u001b[0m\u001b[0;34m(\u001b[0m\u001b[0mtrain_inds\u001b[0m\u001b[0;34m,\u001b[0m \u001b[0mtrain_dir\u001b[0m\u001b[0;34m)\u001b[0m\u001b[0;34m\u001b[0m\u001b[0;34m\u001b[0m\u001b[0m\n\u001b[0m\u001b[1;32m    171\u001b[0m         \u001b[0mvalid_dataset\u001b[0m \u001b[0;34m=\u001b[0m \u001b[0mdataset\u001b[0m\u001b[0;34m.\u001b[0m\u001b[0mselect\u001b[0m\u001b[0;34m(\u001b[0m\u001b[0mvalid_inds\u001b[0m\u001b[0;34m,\u001b[0m \u001b[0mvalid_dir\u001b[0m\u001b[0;34m)\u001b[0m\u001b[0;34m\u001b[0m\u001b[0;34m\u001b[0m\u001b[0m\n\u001b[1;32m    172\u001b[0m         \u001b[0mtest_dataset\u001b[0m \u001b[0;34m=\u001b[0m \u001b[0mdataset\u001b[0m\u001b[0;34m.\u001b[0m\u001b[0mselect\u001b[0m\u001b[0;34m(\u001b[0m\u001b[0mtest_inds\u001b[0m\u001b[0;34m,\u001b[0m \u001b[0mtest_dir\u001b[0m\u001b[0;34m)\u001b[0m\u001b[0;34m\u001b[0m\u001b[0;34m\u001b[0m\u001b[0m\n",
            "\u001b[0;32m/usr/local/lib/python3.11/dist-packages/deepchem/data/datasets.py\u001b[0m in \u001b[0;36mselect\u001b[0;34m(self, indices, select_dir)\u001b[0m\n\u001b[1;32m    961\u001b[0m             \u001b[0mA\u001b[0m \u001b[0mselected\u001b[0m \u001b[0mNumpyDataset\u001b[0m \u001b[0mobject\u001b[0m\u001b[0;34m\u001b[0m\u001b[0;34m\u001b[0m\u001b[0m\n\u001b[1;32m    962\u001b[0m         \"\"\"\n\u001b[0;32m--> 963\u001b[0;31m         \u001b[0mX\u001b[0m \u001b[0;34m=\u001b[0m \u001b[0mself\u001b[0m\u001b[0;34m.\u001b[0m\u001b[0mX\u001b[0m\u001b[0;34m[\u001b[0m\u001b[0mindices\u001b[0m\u001b[0;34m]\u001b[0m\u001b[0;34m\u001b[0m\u001b[0;34m\u001b[0m\u001b[0m\n\u001b[0m\u001b[1;32m    964\u001b[0m         \u001b[0my\u001b[0m \u001b[0;34m=\u001b[0m \u001b[0mself\u001b[0m\u001b[0;34m.\u001b[0m\u001b[0my\u001b[0m\u001b[0;34m[\u001b[0m\u001b[0mindices\u001b[0m\u001b[0;34m]\u001b[0m\u001b[0;34m\u001b[0m\u001b[0;34m\u001b[0m\u001b[0m\n\u001b[1;32m    965\u001b[0m         \u001b[0mw\u001b[0m \u001b[0;34m=\u001b[0m \u001b[0mself\u001b[0m\u001b[0;34m.\u001b[0m\u001b[0mw\u001b[0m\u001b[0;34m[\u001b[0m\u001b[0mindices\u001b[0m\u001b[0;34m]\u001b[0m\u001b[0;34m\u001b[0m\u001b[0;34m\u001b[0m\u001b[0m\n",
            "\u001b[0;31mIndexError\u001b[0m: arrays used as indices must be of integer (or boolean) type"
          ]
        }
      ],
      "source": [
        "splitter = dc.splits.SingletaskStratifiedSplitter()\n",
        "train_dataset, test_dataset = splitter.train_test_split(dataset)"
      ]
    },
    {
      "cell_type": "markdown",
      "id": "2a5a810e",
      "metadata": {
        "id": "2a5a810e"
      },
      "source": [
        "### 2. Different sources"
      ]
    },
    {
      "cell_type": "markdown",
      "id": "b2509e46",
      "metadata": {
        "id": "b2509e46"
      },
      "source": [
        "When using datasets from different sources, the gene sets may not completely overlap. Since the ACTINN model defines its layers based on the gene set, it's essential that both the training and testing sets contain the same genes. To ensure this, we first identified the genes common to both datasets and filtered out those that were not shared."
      ]
    },
    {
      "cell_type": "code",
      "execution_count": 176,
      "id": "cd1aa909",
      "metadata": {
        "id": "cd1aa909"
      },
      "outputs": [],
      "source": [
        "train_set = pd.read_hdf(os.path.join(current_dir,'scRNAseq_sample_1.h5'))\n",
        "train_labels = pd.read_csv(os.path.join(current_dir,'celltype_label_sample_1.txt'), header=None, sep='\\t')\n",
        "test_set = pd.read_hdf(os.path.join(current_dir,'scRNAseq_sample_2.h5'))\n",
        "#test_labels = pd.read_csv(os.path.join(current_dir,'celltype_label_sample_2.txt'), header=None, sep='\\t')\n",
        "\n",
        "common_genes = train_set.index.intersection(test_set.index)\n",
        "common_genes = sorted(common_genes)\n",
        "\n",
        "train_set = train_set.loc[common_genes]\n",
        "test_set = test_set.loc[common_genes]"
      ]
    },
    {
      "cell_type": "markdown",
      "id": "5559ab37",
      "metadata": {
        "id": "5559ab37"
      },
      "source": [
        "Convertes cell type labels from string ('B Cell', 'T Cell' etc) to integers (1, 2 etc)"
      ]
    },
    {
      "cell_type": "code",
      "execution_count": 148,
      "id": "4cbe0639",
      "metadata": {
        "id": "4cbe0639"
      },
      "outputs": [],
      "source": [
        "def convert_type2label(types):\n",
        "    global n_types\n",
        "    types = list(types)\n",
        "    unique_types = sorted(set(types)) # Sorting ensures consistent label order\n",
        "    n_types = len(unique_types)\n",
        "\n",
        "    type_to_label_dict = {t: i for i, t in enumerate(unique_types)}\n",
        "    labels = np.array([type_to_label_dict[t] for t in types])\n",
        "\n",
        "    return labels\n",
        "\n",
        "train_labels_int = convert_type2label(train_labels[1])\n",
        "#test_labels_int = convert_type2label(test_labels[1])"
      ]
    },
    {
      "cell_type": "code",
      "execution_count": 177,
      "id": "cZjtIemOzZAR",
      "metadata": {
        "id": "cZjtIemOzZAR"
      },
      "outputs": [],
      "source": [
        "# gene IDs are stored\n",
        "train_genes = train_set.index.to_numpy()\n",
        "test_genes = test_set.index.to_numpy()"
      ]
    },
    {
      "cell_type": "code",
      "execution_count": 178,
      "id": "28VzJlRT5JhT",
      "metadata": {
        "colab": {
          "base_uri": "https://localhost:8080/"
        },
        "id": "28VzJlRT5JhT",
        "outputId": "0a7e7402-fdb9-46c1-ab82-f17323fac9ad"
      },
      "outputs": [
        {
          "name": "stdout",
          "output_type": "stream",
          "text": [
            "802 802\n"
          ]
        }
      ],
      "source": [
        "print(len(train_genes),len(test_genes))"
      ]
    },
    {
      "cell_type": "code",
      "execution_count": 179,
      "id": "J39tJUqYzFyq",
      "metadata": {
        "id": "J39tJUqYzFyq"
      },
      "outputs": [],
      "source": [
        "# genes x cells (features x samples) -> cells x genes (samples x features)\n",
        "train_set = np.transpose(train_set)\n",
        "test_set = np.transpose(test_set)"
      ]
    },
    {
      "cell_type": "code",
      "execution_count": 180,
      "id": "X3AFcLECylTJ",
      "metadata": {
        "id": "X3AFcLECylTJ"
      },
      "outputs": [],
      "source": [
        "# Creating Deepchem 'Dataset' object\n",
        "train_dataset = dc.data.NumpyDataset(X=np.array(train_set,dtype=np.float32),y = train_labels_int, ids= train_labels[0])\n",
        "test_dataset = dc.data.NumpyDataset(X=np.array(test_set,dtype=np.float32))"
      ]
    },
    {
      "cell_type": "code",
      "execution_count": 181,
      "id": "W9qpsgCn5n8I",
      "metadata": {
        "colab": {
          "base_uri": "https://localhost:8080/"
        },
        "id": "W9qpsgCn5n8I",
        "outputId": "184a79ca-af50-4a54-9731-728bc92244c4"
      },
      "outputs": [
        {
          "data": {
            "text/plain": [
              "<NumpyDataset X.shape: (1000, 802), y.shape: (1000,), w.shape: (1000,), task_names: [0]>"
            ]
          },
          "execution_count": 181,
          "metadata": {},
          "output_type": "execute_result"
        }
      ],
      "source": [
        "train_dataset"
      ]
    },
    {
      "cell_type": "code",
      "execution_count": 182,
      "id": "rHDCAgrx5plj",
      "metadata": {
        "colab": {
          "base_uri": "https://localhost:8080/"
        },
        "id": "rHDCAgrx5plj",
        "outputId": "f4daf5ce-cf64-469c-909f-7be84f9d767d"
      },
      "outputs": [
        {
          "data": {
            "text/plain": [
              "<NumpyDataset X.shape: (1000, 802), y.shape: (1000, 1), w.shape: (1000, 1), task_names: [0]>"
            ]
          },
          "execution_count": 182,
          "metadata": {},
          "output_type": "execute_result"
        }
      ],
      "source": [
        "test_dataset"
      ]
    },
    {
      "cell_type": "markdown",
      "id": "272a3e17",
      "metadata": {
        "id": "272a3e17"
      },
      "source": [
        "## Train set data transformation and gene filtering\n",
        "\n",
        "Next, each cell’s expression value was normalized to its total expression value and multiplied by a scale factor of 10 000."
      ]
    },
    {
      "cell_type": "code",
      "execution_count": 183,
      "id": "70224a4b",
      "metadata": {
        "id": "70224a4b"
      },
      "outputs": [],
      "source": [
        "# 1) extract gene names & data array\n",
        "gene_names = train_genes\n",
        "X = train_dataset.X\n",
        "\n",
        "# 2) library-size normalize to 10,000 (in-place)\n",
        "row_sums = X.sum(axis=1, keepdims=True)  # shape (n_cells, 1)\n",
        "X /= row_sums # broadcast divide\n",
        "X *= 10000"
      ]
    },
    {
      "cell_type": "code",
      "execution_count": 184,
      "id": "C9av1KoO5vUh",
      "metadata": {
        "colab": {
          "base_uri": "https://localhost:8080/"
        },
        "id": "C9av1KoO5vUh",
        "outputId": "47319792-e66e-4a51-e5c6-357a009fe535"
      },
      "outputs": [
        {
          "data": {
            "text/plain": [
              "(1000, 802)"
            ]
          },
          "execution_count": 184,
          "metadata": {},
          "output_type": "execute_result"
        }
      ],
      "source": [
        "X.shape"
      ]
    },
    {
      "cell_type": "markdown",
      "id": "e5d7821d",
      "metadata": {
        "id": "e5d7821d"
      },
      "source": [
        "The counts were increased by 1, and the log2 value was calculated"
      ]
    },
    {
      "cell_type": "code",
      "execution_count": 185,
      "id": "f1eeb4c2",
      "metadata": {
        "colab": {
          "base_uri": "https://localhost:8080/"
        },
        "id": "f1eeb4c2",
        "outputId": "78159223-b246-4721-e0f5-3bba97c5c8ee"
      },
      "outputs": [
        {
          "data": {
            "text/plain": [
              "array([[0.       , 0.       , 7.1891084, ..., 0.       , 0.       ,\n",
              "        0.       ],\n",
              "       [0.       , 0.       , 0.       , ..., 0.       , 0.       ,\n",
              "        0.       ],\n",
              "       [0.       , 0.       , 7.319493 , ..., 0.       , 0.       ,\n",
              "        0.       ],\n",
              "       ...,\n",
              "       [0.       , 6.792987 , 0.       , ..., 0.       , 0.       ,\n",
              "        0.       ],\n",
              "       [0.       , 0.       , 4.7355776, ..., 0.       , 0.       ,\n",
              "        0.       ],\n",
              "       [0.       , 7.4380746, 0.       , ..., 0.       , 0.       ,\n",
              "        0.       ]], dtype=float32)"
            ]
          },
          "execution_count": 185,
          "metadata": {},
          "output_type": "execute_result"
        }
      ],
      "source": [
        "# 3) log2(x + 1) transform (in-place)\n",
        "X = np.log2(X + 1)"
      ]
    },
    {
      "cell_type": "code",
      "execution_count": 186,
      "id": "EcjO_1tg5jrq",
      "metadata": {
        "colab": {
          "base_uri": "https://localhost:8080/"
        },
        "id": "EcjO_1tg5jrq",
        "outputId": "6ae4abd7-cc3a-490d-df0b-1a577c9609fb"
      },
      "outputs": [
        {
          "data": {
            "text/plain": [
              "(1000, 802)"
            ]
          },
          "execution_count": 186,
          "metadata": {},
          "output_type": "execute_result"
        }
      ],
      "source": [
        "X.shape"
      ]
    },
    {
      "cell_type": "markdown",
      "id": "b627fed8",
      "metadata": {
        "id": "b627fed8"
      },
      "source": [
        "To filter out outlier genes, the genes with the highest 1% and lowest 1% expression were removed."
      ]
    },
    {
      "cell_type": "code",
      "execution_count": 187,
      "id": "9b16db0b",
      "metadata": {
        "id": "9b16db0b"
      },
      "outputs": [],
      "source": [
        "expr = X.sum(axis=0)\n",
        "low, high = np.percentile(expr, [1, 99])\n",
        "mask_expr = (expr >= low) & (expr <= high)\n"
      ]
    },
    {
      "cell_type": "code",
      "execution_count": 188,
      "id": "ZCDKmRKe52ef",
      "metadata": {
        "id": "ZCDKmRKe52ef"
      },
      "outputs": [],
      "source": [
        "X = X[:, mask_expr]\n",
        "gene_names = gene_names[mask_expr]"
      ]
    },
    {
      "cell_type": "markdown",
      "id": "87378bf8",
      "metadata": {
        "id": "87378bf8"
      },
      "source": [
        "The gene with the highest 1% and the lowest 1% standard deviation were also removed."
      ]
    },
    {
      "cell_type": "code",
      "execution_count": 189,
      "id": "cf0e30bd",
      "metadata": {
        "id": "cf0e30bd"
      },
      "outputs": [],
      "source": [
        "mean_expr = X.mean(axis=0)\n",
        "cv = X.std(axis=0) / mean_expr\n",
        "low_cv, high_cv = np.percentile(cv, [1, 99])\n",
        "mask_cv = (cv >= low_cv) & (cv <= high_cv)\n"
      ]
    },
    {
      "cell_type": "code",
      "execution_count": 190,
      "id": "zj7vm6x-6FSV",
      "metadata": {
        "id": "zj7vm6x-6FSV"
      },
      "outputs": [],
      "source": [
        "X = X[:, mask_cv]\n",
        "gene_names = gene_names[mask_cv]\n",
        "train_genes = gene_names"
      ]
    },
    {
      "cell_type": "code",
      "execution_count": 191,
      "id": "sevCNmAo9TLh",
      "metadata": {
        "id": "sevCNmAo9TLh"
      },
      "outputs": [],
      "source": [
        "# Creating Deepchem 'Dataset' object\n",
        "train_dataset = dc.data.NumpyDataset(X=X,y = train_labels_int, ids= train_labels[0])"
      ]
    },
    {
      "cell_type": "markdown",
      "id": "471975c9",
      "metadata": {
        "id": "471975c9"
      },
      "source": [
        "## Test set transformation and filtering\n",
        "\n",
        "The exact same normalisation aproach used for train set is used for test set.\n",
        "First, each cell’s expression value was normalized to its total expression value and multiplied by a scale factor\n",
        "of 10 000. The counts were increased by 1, and the log2 value was\n",
        "calculated"
      ]
    },
    {
      "cell_type": "code",
      "execution_count": 192,
      "id": "ac7f8796",
      "metadata": {
        "colab": {
          "base_uri": "https://localhost:8080/"
        },
        "id": "ac7f8796",
        "outputId": "fe51a78d-2aea-457a-b6fa-2e074ab466e1"
      },
      "outputs": [
        {
          "data": {
            "text/plain": [
              "array([[0.       , 4.8778605, 8.59544  , ..., 0.       , 0.       ,\n",
              "        0.       ],\n",
              "       [0.       , 6.76173  , 0.       , ..., 0.       , 0.       ,\n",
              "        0.       ],\n",
              "       [0.       , 0.       , 0.       , ..., 0.       , 0.       ,\n",
              "        0.       ],\n",
              "       ...,\n",
              "       [0.       , 0.       , 0.       , ..., 0.       , 0.       ,\n",
              "        0.       ],\n",
              "       [0.       , 0.       , 0.       , ..., 0.       , 0.       ,\n",
              "        0.       ],\n",
              "       [0.       , 0.       , 0.       , ..., 0.       , 0.       ,\n",
              "        0.       ]], dtype=float32)"
            ]
          },
          "execution_count": 192,
          "metadata": {},
          "output_type": "execute_result"
        }
      ],
      "source": [
        "# 1) extract data array\n",
        "X = test_dataset.X\n",
        "\n",
        "# 2) library-size normalize to 10,000 (in-place)\n",
        "row_sums = X.sum(axis=1, keepdims=True)  # shape (1, n_cells)\n",
        "X /= row_sums  # broadcast divide\n",
        "X *= 10000\n",
        "\n",
        "# 3) log2(x + 1) transform (in-place)\n",
        "np.log2(X + 1, out=X)\n"
      ]
    },
    {
      "cell_type": "code",
      "execution_count": 193,
      "id": "prjpO0pG35wU",
      "metadata": {
        "colab": {
          "base_uri": "https://localhost:8080/"
        },
        "id": "prjpO0pG35wU",
        "outputId": "a1bab2ea-4b4e-4d1e-ef07-0254b71e0a2a"
      },
      "outputs": [
        {
          "data": {
            "text/plain": [
              "768"
            ]
          },
          "execution_count": 193,
          "metadata": {},
          "output_type": "execute_result"
        }
      ],
      "source": [
        "len(train_genes)"
      ]
    },
    {
      "cell_type": "code",
      "execution_count": 194,
      "id": "-xFMorht3-OY",
      "metadata": {
        "colab": {
          "base_uri": "https://localhost:8080/"
        },
        "id": "-xFMorht3-OY",
        "outputId": "d5f0099f-9972-4e6f-b190-99930544d9b1"
      },
      "outputs": [
        {
          "data": {
            "text/plain": [
              "802"
            ]
          },
          "execution_count": 194,
          "metadata": {},
          "output_type": "execute_result"
        }
      ],
      "source": [
        "len(test_genes)"
      ]
    },
    {
      "cell_type": "markdown",
      "id": "14426f96",
      "metadata": {
        "id": "14426f96"
      },
      "source": [
        "\n",
        "The gene list obtained from the train set filtering steps is used to mask the test set. In the original ACTINN implementation, genes were filtered using both the training and test sets. To avoid potential information leakage, we instead apply filtering based solely on the training set."
      ]
    },
    {
      "cell_type": "code",
      "execution_count": 198,
      "id": "27ebb3ed",
      "metadata": {
        "id": "27ebb3ed"
      },
      "outputs": [],
      "source": [
        "test_gene_mask=[i in train_genes for i in test_genes]\n",
        "X = X[:,test_gene_mask]"
      ]
    },
    {
      "cell_type": "code",
      "execution_count": 199,
      "id": "8GfNQ-tP7xyu",
      "metadata": {
        "id": "8GfNQ-tP7xyu"
      },
      "outputs": [],
      "source": [
        "test_dataset = dc.data.NumpyDataset(X=np.array(X,dtype=np.float32))"
      ]
    },
    {
      "cell_type": "code",
      "execution_count": 200,
      "id": "KFy_Eka0-fUh",
      "metadata": {
        "colab": {
          "base_uri": "https://localhost:8080/"
        },
        "id": "KFy_Eka0-fUh",
        "outputId": "88d3b2cf-61b9-4d6f-a1ac-896ce874b249"
      },
      "outputs": [
        {
          "data": {
            "text/plain": [
              "<NumpyDataset X.shape: (1000, 768), y.shape: (1000, 1), w.shape: (1000, 1), task_names: [0]>"
            ]
          },
          "execution_count": 200,
          "metadata": {},
          "output_type": "execute_result"
        }
      ],
      "source": [
        "test_dataset"
      ]
    },
    {
      "cell_type": "markdown",
      "id": "0b2bbf47",
      "metadata": {
        "id": "0b2bbf47"
      },
      "source": [
        "ACTINN implemented with deepchem Model class as wrapper"
      ]
    },
    {
      "cell_type": "code",
      "execution_count": null,
      "id": "e5124361",
      "metadata": {
        "id": "e5124361"
      },
      "outputs": [],
      "source": [
        "import torch.nn as nn\n",
        "import torch\n",
        "from deepchem.models.torch_models import TorchModel\n",
        "from deepchem.models.losses import SparseSoftmaxCrossEntropy\n",
        "from deepchem.models.optimizers import Adam\n",
        "from deepchem.models.optimizers import ExponentialDecay\n",
        "\n",
        "\n",
        "class ActinnClassifier(nn.Module):\n",
        "\n",
        "    def __init__(self, output_dim=None, input_size=None):\n",
        "\n",
        "        if output_dim == None or input_size == None:\n",
        "            raise ValueError('Must explicitly declare input dim (num features) and output dim (number of classes)')\n",
        "\n",
        "        super(ActinnClassifier, self).__init__()\n",
        "        self.inp_dim = input_size\n",
        "        self.out_dim = output_dim\n",
        "\n",
        "        # feed forward layers\n",
        "        self.classifier_sequential = nn.Sequential(\n",
        "                                        nn.Linear(self.inp_dim, 100),\n",
        "                                        nn.ReLU(),\n",
        "\n",
        "                                        nn.Linear(100, 50),\n",
        "                                        nn.ReLU(),\n",
        "\n",
        "                                        nn.Linear(50, 25),\n",
        "                                        nn.ReLU(),\n",
        "\n",
        "                                        nn.Linear(25, output_dim)\n",
        "                                        )\n",
        "\n",
        "    def forward(self, x):\n",
        "        \"\"\"\n",
        "        Forward pass of the classifier\n",
        "        \"\"\"\n",
        "        out = self.classifier_sequential(x)\n",
        "        return out\n",
        "\n",
        "class ACTINNModel(TorchModel):\n",
        "    def __init__(self, output_dim = None, input_size = None, **kwargs):\n",
        "\n",
        "        self.model = ActinnClassifier(output_dim, input_size)\n",
        "        self.criterion = SparseSoftmaxCrossEntropy()\n",
        "        print('model', self.model)\n",
        "        cf_optimizer = Adam(learning_rate=0.0001,\n",
        "                            beta1=0.9,\n",
        "                            beta2=0.999,\n",
        "                            epsilon=1e-08,\n",
        "                            weight_decay=0.005,\n",
        "                            )\n",
        "\n",
        "        cf_decayRate = 0.95\n",
        "        cf_lr_scheduler = ExponentialDecay(initial_rate=0.0001, decay_rate=cf_decayRate, decay_steps=1000)\n",
        "        super(ACTINNModel,\n",
        "              self).__init__(self.model,\n",
        "                             loss=self.criterion,\n",
        "                             optimizer=cf_optimizer,\n",
        "                             learning_rate=cf_lr_scheduler,\n",
        "                             output_types=['prediction'],\n",
        "                             **kwargs)\n"
      ]
    },
    {
      "cell_type": "markdown",
      "id": "88050735",
      "metadata": {
        "id": "88050735"
      },
      "source": [
        "## Model training and evaluation"
      ]
    },
    {
      "cell_type": "code",
      "execution_count": 207,
      "id": "815b93bf",
      "metadata": {
        "colab": {
          "base_uri": "https://localhost:8080/"
        },
        "id": "815b93bf",
        "outputId": "349ccde9-5306-4051-e4aa-eb095927dcc8"
      },
      "outputs": [
        {
          "name": "stdout",
          "output_type": "stream",
          "text": [
            "model ActinnClassifier(\n",
            "  (classifier_sequential): Sequential(\n",
            "    (0): Linear(in_features=768, out_features=100, bias=True)\n",
            "    (1): ReLU()\n",
            "    (2): Linear(in_features=100, out_features=50, bias=True)\n",
            "    (3): ReLU()\n",
            "    (4): Linear(in_features=50, out_features=25, bias=True)\n",
            "    (5): ReLU()\n",
            "    (6): Linear(in_features=25, out_features=5, bias=True)\n",
            "  )\n",
            ")\n"
          ]
        }
      ],
      "source": [
        "model = ACTINNModel(output_dim= n_types,input_size= len(train_genes))"
      ]
    },
    {
      "cell_type": "code",
      "execution_count": 208,
      "id": "5ad7fa1b",
      "metadata": {
        "id": "5ad7fa1b"
      },
      "outputs": [],
      "source": [
        "model.fit(train_dataset, nb_epoch=5)\n",
        "logits= model.predict(test_dataset)"
      ]
    },
    {
      "cell_type": "code",
      "execution_count": 209,
      "id": "8e34eb31",
      "metadata": {
        "id": "8e34eb31"
      },
      "outputs": [],
      "source": [
        "import torch.nn.functional as F"
      ]
    },
    {
      "cell_type": "code",
      "execution_count": null,
      "id": "67f1498d",
      "metadata": {
        "id": "67f1498d"
      },
      "outputs": [],
      "source": [
        "logits_tensor = torch.from_numpy(logits)\n",
        "probabilities = F.softmax(logits_tensor, dim=1)\n",
        "predictions = np.argmax(probabilities, axis=1)"
      ]
    },
    {
      "cell_type": "code",
      "execution_count": null,
      "id": "bf76b527",
      "metadata": {
        "id": "bf76b527"
      },
      "outputs": [],
      "source": [
        "from sklearn.metrics import accuracy_score\n",
        "\n",
        "# Compute accuracy\n",
        "accuracy = accuracy_score(test_labels, predictions)\n",
        "print(f\"Accuracy: {accuracy:.4f}\")"
      ]
    },
    {
      "cell_type": "markdown",
      "id": "0990cfb6",
      "metadata": {
        "id": "0990cfb6"
      },
      "source": [
        "### References\n",
        "[1] Tang, F., Barbacioru, C., Wang, Y., Nordman, E., Lee, C., Xu, N., ... & Surani, M. A. (2009). mRNA-Seq whole-transcriptome analysis of a single cell. Nature methods, 6(5), 377-382.\n",
        "\n",
        "[2] Alberts, B., Johnson, A., Lewis, J., Morgan, D., Raff, M., Roberts, K., & Walter, P. (2014). Molecular Biology of the Cell (6th ed.). Garland Science.\n",
        "\n",
        "[3] https://onlinelibrary.wiley.com/doi/full/10.1002/qub2.78\n",
        "\n",
        "[4] [ACTINN: automated identification of cell types in single cell RNA sequencing](https://academic.oup.com/bioinformatics/article/36/2/533/5540320)"
      ]
    },
    {
      "cell_type": "markdown",
      "id": "2b0df63d",
      "metadata": {},
      "source": [
        "# Congratulations! Time to join the Community!\n",
        "\n",
        "Congratulations on completing this tutorial notebook! If you enjoyed working through the tutorial, and want to continue working with DeepChem, we encourage you to finish the rest of the tutorials in this series. You can also help the DeepChem community in the following ways:\n",
        "\n",
        "## Star DeepChem on [GitHub](https://github.com/deepchem/deepchem)\n",
        "This helps build awareness of the DeepChem project and the tools for open source drug discovery that we're trying to build.\n",
        "\n",
        "## Join the DeepChem Discord\n",
        "The DeepChem [Discord](https://discord.gg/cGzwCdrUqS) hosts a number of scientists, developers, and enthusiasts interested in deep learning for the life sciences. Join the conversation!"
      ]
    }
  ],
  "metadata": {
    "colab": {
      "provenance": []
    },
    "kernelspec": {
      "display_name": "Python 3",
      "name": "python3"
    },
    "language_info": {
      "name": "python"
    }
  },
  "nbformat": 4,
  "nbformat_minor": 5
}
